{
 "cells": [
  {
   "cell_type": "code",
   "execution_count": 1,
   "metadata": {},
   "outputs": [
    {
     "ename": "SystemExit",
     "evalue": "0",
     "output_type": "error",
     "traceback": [
      "An exception has occurred, use %tb to see the full traceback.\n",
      "\u001b[1;31mSystemExit\u001b[0m\u001b[1;31m:\u001b[0m 0\n"
     ]
    },
    {
     "name": "stderr",
     "output_type": "stream",
     "text": [
      "c:\\programdata\\miniconda3\\lib\\site-packages\\IPython\\core\\interactiveshell.py:3327: UserWarning: To exit: use 'exit', 'quit', or Ctrl-D.\n",
      "  warn(\"To exit: use 'exit', 'quit', or Ctrl-D.\", stacklevel=1)\n"
     ]
    }
   ],
   "source": [
    "import sys\n",
    "import importlib\n",
    "\n",
    "from PyQt5.QtWidgets import  QApplication\n",
    "\n",
    "from FindApp import FindApp      # main window layout\n",
    "from FindApp import TableLayout  # table layout\n",
    "from FindApp import TextGetter   # funny text storage\n",
    "\n",
    "importlib.reload(FindApp)        # import reloaders \n",
    "importlib.reload(TableLayout)    \n",
    "importlib.reload(TextGetter)\n",
    "\n",
    "if __name__ == '__main__':       \n",
    "    app = QApplication(sys.argv)\n",
    "    app.setStyle('Fusion')       # setting GUI style \n",
    "    ex = FindApp.FindApp()       # main loop of the app\n",
    "    sys.exit(app.exec_())   "
   ]
  },
  {
   "cell_type": "code",
   "execution_count": 1,
   "metadata": {},
   "outputs": [],
   "source": [
    "from FindApp import TableLayout  # table layout\n",
    "import importlib\n",
    "importlib.reload(TableLayout) \n",
    "x,y=TableLayout.execSQL()"
   ]
  },
  {
   "cell_type": "code",
   "execution_count": 28,
   "metadata": {},
   "outputs": [
    {
     "data": {
      "text/plain": [
       "[(10011, 'January', 1, 6, 3, 2, 64000),\n",
       " (10012, 'January', 1, 6, 2, 2, 46000),\n",
       " (10013, 'January', 5, 5, 4, 4, 80000),\n",
       " (10014, 'February', 1, 3, 3, 3, 96000),\n",
       " (10015, 'February', 4, 6, 2, 1, 23000),\n",
       " (10016, 'March', 1, 4, 7, 2, 30000),\n",
       " (10017, 'March', 5, 6, 6, 3, 48000),\n",
       " (10018, 'April', 1, 1, 3, 3, 96000),\n",
       " (10019, 'April', 3, 3, 7, 2, 30000),\n",
       " (10020, 'April', 5, 2, 2, 5, 115000),\n",
       " (10021, 'April', 5, 2, 1, 3, 45000),\n",
       " (10022, 'May', 2, 3, 7, 2, 30000),\n",
       " (10023, 'May', 2, 4, 3, 1, 32000),\n",
       " (10024, 'May', 4, 3, 5, 1, 47000),\n",
       " (10025, 'May', 4, 6, 3, 4, 60000),\n",
       " (10026, 'May', 5, 1, 5, 3, 80000),\n",
       " (10027, 'June', 3, 2, 6, 2, 32000)]"
      ]
     },
     "execution_count": 28,
     "metadata": {},
     "output_type": "execute_result"
    }
   ],
   "source": []
  },
  {
   "cell_type": "code",
   "execution_count": null,
   "metadata": {},
   "outputs": [],
   "source": []
  }
 ],
 "metadata": {
  "kernelspec": {
   "display_name": "Python 3",
   "language": "python",
   "name": "python3"
  }
 },
 "nbformat": 4,
 "nbformat_minor": 2
}
